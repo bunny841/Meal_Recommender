{
 "cells": [
  {
   "cell_type": "code",
   "execution_count": 1,
   "id": "60c18c04",
   "metadata": {},
   "outputs": [],
   "source": [
    "import pandas as pd\n",
    "import numpy as np\n"
   ]
  },
  {
   "cell_type": "code",
   "execution_count": 2,
   "id": "cf19cda4",
   "metadata": {},
   "outputs": [
    {
     "data": {
      "text/html": [
       "<div>\n",
       "<style scoped>\n",
       "    .dataframe tbody tr th:only-of-type {\n",
       "        vertical-align: middle;\n",
       "    }\n",
       "\n",
       "    .dataframe tbody tr th {\n",
       "        vertical-align: top;\n",
       "    }\n",
       "\n",
       "    .dataframe thead th {\n",
       "        text-align: right;\n",
       "    }\n",
       "</style>\n",
       "<table border=\"1\" class=\"dataframe\">\n",
       "  <thead>\n",
       "    <tr style=\"text-align: right;\">\n",
       "      <th></th>\n",
       "      <th>User_id</th>\n",
       "      <th>User_name</th>\n",
       "      <th>Order_id</th>\n",
       "      <th>order_list1</th>\n",
       "      <th>order_list2</th>\n",
       "      <th>order_list3</th>\n",
       "      <th>order_list4</th>\n",
       "      <th>order_list5</th>\n",
       "    </tr>\n",
       "  </thead>\n",
       "  <tbody>\n",
       "    <tr>\n",
       "      <th>0</th>\n",
       "      <td>1</td>\n",
       "      <td>Anderson</td>\n",
       "      <td>AA1122</td>\n",
       "      <td>Taco Surprise</td>\n",
       "      <td>Spicy Chicken Nuggest</td>\n",
       "      <td>Taco Surprise</td>\n",
       "      <td>Spicy Chicken Nuggest</td>\n",
       "      <td>Pretzels and Cheese Plate</td>\n",
       "    </tr>\n",
       "    <tr>\n",
       "      <th>1</th>\n",
       "      <td>2</td>\n",
       "      <td>Ashwoon</td>\n",
       "      <td>AA2233</td>\n",
       "      <td>Chicken Chow Mein</td>\n",
       "      <td>Nachos</td>\n",
       "      <td>Burrito</td>\n",
       "      <td>Taco Surprise</td>\n",
       "      <td>Chicken Chow Mein</td>\n",
       "    </tr>\n",
       "    <tr>\n",
       "      <th>2</th>\n",
       "      <td>3</td>\n",
       "      <td>Aikin</td>\n",
       "      <td>AA3344</td>\n",
       "      <td>Hamburger</td>\n",
       "      <td>Chicken Curry</td>\n",
       "      <td>Taco Surprise</td>\n",
       "      <td>Roasted Eggplant</td>\n",
       "      <td>Spicy Pork Sliders</td>\n",
       "    </tr>\n",
       "    <tr>\n",
       "      <th>3</th>\n",
       "      <td>4</td>\n",
       "      <td>Bateman</td>\n",
       "      <td>AA4455</td>\n",
       "      <td>Pretzels and Cheese Plate</td>\n",
       "      <td>Taco Surprise</td>\n",
       "      <td>Taco Surprise</td>\n",
       "      <td>Chicken Chow Mein</td>\n",
       "      <td>Spicy Chicken Nuggest</td>\n",
       "    </tr>\n",
       "    <tr>\n",
       "      <th>4</th>\n",
       "      <td>5</td>\n",
       "      <td>Bongard</td>\n",
       "      <td>AA5566</td>\n",
       "      <td>Taco Surprise</td>\n",
       "      <td>Ceaser Salad</td>\n",
       "      <td>Roasted Eggplant</td>\n",
       "      <td>Mandarin Chicken PLate</td>\n",
       "      <td>Roasted Eggplant</td>\n",
       "    </tr>\n",
       "  </tbody>\n",
       "</table>\n",
       "</div>"
      ],
      "text/plain": [
       "   User_id User_name Order_id                order_list1  \\\n",
       "0        1  Anderson   AA1122              Taco Surprise   \n",
       "1        2   Ashwoon   AA2233          Chicken Chow Mein   \n",
       "2        3     Aikin   AA3344                  Hamburger   \n",
       "3        4   Bateman   AA4455  Pretzels and Cheese Plate   \n",
       "4        5   Bongard   AA5566              Taco Surprise   \n",
       "\n",
       "             order_list2        order_list3             order_list4  \\\n",
       "0  Spicy Chicken Nuggest      Taco Surprise   Spicy Chicken Nuggest   \n",
       "1                 Nachos            Burrito           Taco Surprise   \n",
       "2          Chicken Curry      Taco Surprise       Roasted Eggplant    \n",
       "3          Taco Surprise      Taco Surprise       Chicken Chow Mein   \n",
       "4           Ceaser Salad  Roasted Eggplant   Mandarin Chicken PLate   \n",
       "\n",
       "                 order_list5  \n",
       "0  Pretzels and Cheese Plate  \n",
       "1          Chicken Chow Mein  \n",
       "2         Spicy Pork Sliders  \n",
       "3      Spicy Chicken Nuggest  \n",
       "4          Roasted Eggplant   "
      ]
     },
     "execution_count": 2,
     "metadata": {},
     "output_type": "execute_result"
    }
   ],
   "source": [
    "df=pd.read_excel('meal.xlsx')\n",
    "df.head()"
   ]
  },
  {
   "cell_type": "code",
   "execution_count": 10,
   "id": "17cd7bd9",
   "metadata": {},
   "outputs": [
    {
     "data": {
      "text/plain": [
       "100"
      ]
     },
     "execution_count": 10,
     "metadata": {},
     "output_type": "execute_result"
    }
   ],
   "source": [
    "len(pd.unique(df['order_list5']))\n",
    "#hundred different orders in 5th list\n"
   ]
  },
  {
   "cell_type": "code",
   "execution_count": 11,
   "id": "651be0a8",
   "metadata": {},
   "outputs": [
    {
     "data": {
      "text/plain": [
       "92"
      ]
     },
     "execution_count": 11,
     "metadata": {},
     "output_type": "execute_result"
    }
   ],
   "source": [
    "len(pd.unique(df['order_list4']))\n"
   ]
  },
  {
   "cell_type": "code",
   "execution_count": 12,
   "id": "f74cea57",
   "metadata": {},
   "outputs": [
    {
     "data": {
      "text/plain": [
       "96"
      ]
     },
     "execution_count": 12,
     "metadata": {},
     "output_type": "execute_result"
    }
   ],
   "source": [
    "len(pd.unique(df['order_list3']))"
   ]
  },
  {
   "cell_type": "code",
   "execution_count": 13,
   "id": "37c2863c",
   "metadata": {},
   "outputs": [
    {
     "data": {
      "text/plain": [
       "97"
      ]
     },
     "execution_count": 13,
     "metadata": {},
     "output_type": "execute_result"
    }
   ],
   "source": [
    "len(pd.unique(df['order_list2']))"
   ]
  },
  {
   "cell_type": "code",
   "execution_count": 14,
   "id": "712bb005",
   "metadata": {},
   "outputs": [
    {
     "data": {
      "text/plain": [
       "100"
      ]
     },
     "execution_count": 14,
     "metadata": {},
     "output_type": "execute_result"
    }
   ],
   "source": [
    "len(pd.unique(df['order_list1']))"
   ]
  },
  {
   "cell_type": "code",
   "execution_count": null,
   "id": "50c20410",
   "metadata": {},
   "outputs": [],
   "source": []
  }
 ],
 "metadata": {
  "kernelspec": {
   "display_name": "Python 3 (ipykernel)",
   "language": "python",
   "name": "python3"
  },
  "language_info": {
   "codemirror_mode": {
    "name": "ipython",
    "version": 3
   },
   "file_extension": ".py",
   "mimetype": "text/x-python",
   "name": "python",
   "nbconvert_exporter": "python",
   "pygments_lexer": "ipython3",
   "version": "3.9.8"
  }
 },
 "nbformat": 4,
 "nbformat_minor": 5
}
